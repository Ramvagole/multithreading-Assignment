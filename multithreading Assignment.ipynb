{
 "cells": [
  {
   "cell_type": "code",
   "execution_count": null,
   "id": "c34a2973-b403-4f25-9c1c-5fd12b2e926f",
   "metadata": {},
   "outputs": [],
   "source": [
    "#Q1):-\n",
    "The threading module is a high-level implementation of multithreading used to deploy an application in Python. \n",
    "To use multithreading, we need to import the threading module in Python Program.\n",
    "A start() method is used to initiate the activity of a thread."
   ]
  },
  {
   "cell_type": "code",
   "execution_count": null,
   "id": "8d5656c7-6385-46d1-a85c-bc3c2aef6093",
   "metadata": {},
   "outputs": [],
   "source": [
    "#Q2):-\n",
    "The threading module exposes all the methods of the thread module and provides some additional methods −\n",
    "\n",
    "threading.activeCount() :− Returns the number of thread objects that are active.\n",
    "threading.currentThread() :− Returns the number of thread objects in the caller's thread control.\n",
    "threading.enumerate() :− Returns a list of all thread objects that are currently active."
   ]
  },
  {
   "cell_type": "code",
   "execution_count": null,
   "id": "3ee4dc12-8e0e-40a6-b277-fe7b43a00e7b",
   "metadata": {},
   "outputs": [],
   "source": [
    "#Q3):-\n",
    "run() :− The run() method is the entry point for a thread.\n",
    "start() :− The start() method starts a thread by calling the run method.\n",
    "join([time]) :− The join() waits for threads to terminate.\n",
    "isAlive() :− The isAlive() method checks whether a thread is still executing."
   ]
  },
  {
   "cell_type": "code",
   "execution_count": 10,
   "id": "b50b1bbe-4301-4619-8b07-683507e5f227",
   "metadata": {},
   "outputs": [
    {
     "name": "stdout",
     "output_type": "stream",
     "text": [
      "square of numbers: 1\n",
      "square of numbers: 4\n",
      "square of numbers: 9\n",
      "cube of numbers: 1\n",
      "cube of numbers: 8\n",
      "cube of numbers: 27\n"
     ]
    }
   ],
   "source": [
    "#Q4):-\n",
    "import threading\n",
    "def squares(num):\n",
    "    print(\"square of numbers:\",num**2)\n",
    "\n",
    "def cube(num1):\n",
    "    print(\"cube of numbers:\",num1**3)\n",
    "    \n",
    "a=[1,2,3]\n",
    "t1=[threading.Thread(target=squares, args=(i,)) for i in a]\n",
    "\n",
    "b=[1,2,3]\n",
    "t2=[threading.Thread(target=cube, args=(l,)) for l in b]\n",
    "\n",
    "for c in t1:\n",
    "    c.start()\n",
    "    \n",
    "for d in t2:\n",
    "    d.start()\n"
   ]
  },
  {
   "cell_type": "code",
   "execution_count": null,
   "id": "f938a710-9fde-4d45-9548-a68bdd8ffb06",
   "metadata": {},
   "outputs": [],
   "source": [
    "#Q5):-\n",
    "This model provides more concurrency than the many-to-one model.\n",
    "It also allows another thread to run when a thread makes a blocking system call. \n",
    "It supports multiple threads to execute in parallel on microprocessors. \n",
    "\n",
    "Disadvantage of this model is that creating user thread requires the corresponding Kernel thread."
   ]
  },
  {
   "cell_type": "code",
   "execution_count": null,
   "id": "3e28e613-ed40-49f9-8bcf-607bd376b5eb",
   "metadata": {},
   "outputs": [],
   "source": [
    "#Q6):-\n",
    "Deadlock exists when two threads seek one lock simultaneously. This situation will stop both threads from processing or executing the functions.\n",
    "\n",
    "A race condition occurs when two threads use the same variable at a given time.\n"
   ]
  }
 ],
 "metadata": {
  "kernelspec": {
   "display_name": "Python 3 (ipykernel)",
   "language": "python",
   "name": "python3"
  },
  "language_info": {
   "codemirror_mode": {
    "name": "ipython",
    "version": 3
   },
   "file_extension": ".py",
   "mimetype": "text/x-python",
   "name": "python",
   "nbconvert_exporter": "python",
   "pygments_lexer": "ipython3",
   "version": "3.10.8"
  }
 },
 "nbformat": 4,
 "nbformat_minor": 5
}
